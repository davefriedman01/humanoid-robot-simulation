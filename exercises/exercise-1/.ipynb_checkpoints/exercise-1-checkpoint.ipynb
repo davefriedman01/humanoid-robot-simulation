{
 "cells": [
  {
   "cell_type": "markdown",
   "metadata": {},
   "source": [
    "---"
   ]
  },
  {
   "cell_type": "markdown",
   "metadata": {},
   "source": [
    "Blender Version 2.91.2 (2.91.2 2021-01-19)"
   ]
  },
  {
   "cell_type": "markdown",
   "metadata": {},
   "source": [
    "---"
   ]
  },
  {
   "cell_type": "markdown",
   "metadata": {},
   "source": [
    "__Problem 1__"
   ]
  },
  {
   "cell_type": "markdown",
   "metadata": {},
   "source": [
    "Transformation 1: $-45º$ rotation about the z-axis $\n",
    "\\begin{bmatrix}\n",
    "cos(-45º) & -sin(-45º) & 0 & 0 \\\\\n",
    "sin(-45º) & cos(-45º) & 0 & 0 \\\\\n",
    "0 & 0 & 1 & 0 \\\\\n",
    "0 & 0 & 0 & 1 \\\\\n",
    "\\end{bmatrix}\n",
    "$\n",
    "\n",
    "Transformation 2: $-30º$ rotation about the x-axis $\n",
    "\\begin{bmatrix}\n",
    "1 & 0 & 0 & 0 \\\\\n",
    "0 & cos(60º) & -sin(60º) & 0 \\\\\n",
    "0 & sin(60º) & cos(60º) & 0 \\\\\n",
    "0 & 0 & 0 & 1\n",
    "\\end{bmatrix}\n",
    "$\n",
    "\n",
    "Transformation 3: xyz-translation of $(-15, -15, 12)$ $\n",
    "\\begin{bmatrix}\n",
    "1 & 0 & 0 & -15 \\\\\n",
    "0 & 1 & 0 & -15 \\\\\n",
    "0 & 0 & 1 & 12 \\\\\n",
    "0 & 0 & 0 & 1 \\\\\n",
    "\\end{bmatrix}\n",
    "$\n",
    "\n",
    "$$\n",
    "\\begin{bmatrix}\n",
    "1 & 0 & 0 & -15 \\\\\n",
    "0 & 1 & 0 & -15 \\\\\n",
    "0 & 0 & 1 & 12 \\\\\n",
    "0 & 0 & 0 & 1 \\\\\n",
    "\\end{bmatrix}\n",
    "\\begin{bmatrix}\n",
    "1 & 0 & 0 & 0 \\\\\n",
    "0 & cos(60º) & -sin(60º) & 0 \\\\\n",
    "0 & sin(60º) & cos(60º) & 0 \\\\\n",
    "0 & 0 & 0 & 1\n",
    "\\end{bmatrix}\n",
    "\\begin{bmatrix}\n",
    "cos(-45º) & -sin(-45º) & 0 & 0 \\\\\n",
    "sin(-45º) & cos(-45º) & 0 & 0 \\\\\n",
    "0 & 0 & 1 & 0 \\\\\n",
    "0 & 0 & 0 & 1 \\\\\n",
    "\\end{bmatrix}\n",
    "$$"
   ]
  },
  {
   "cell_type": "markdown",
   "metadata": {},
   "source": [
    "---"
   ]
  },
  {
   "cell_type": "markdown",
   "metadata": {},
   "source": [
    "__Problem 2__"
   ]
  },
  {
   "cell_type": "markdown",
   "metadata": {},
   "source": [
    "Transformation 1: xyz-scale by $(2, 1, 3)$ $\n",
    "\\begin{bmatrix}\n",
    "2 & 0 & 0 & 0 \\\\\n",
    "0 & 1 & 0 & 0 \\\\\n",
    "0 & 0 & 3 & 0 \\\\\n",
    "0 & 0 & 0 & 1 \\\\\n",
    "\\end{bmatrix}\n",
    "$\n",
    "\n",
    "Transformation 2: $-45º$ rotation about the y-axis $\n",
    "\\begin{bmatrix}\n",
    "cos(-45º) & 0 & sin(-45º) & 0 \\\\\n",
    "0 & 1 & 0 & 0 \\\\\n",
    "-sin(-45º) & 0 & cos(-45º) & 0 \\\\\n",
    "0 & 0 & 0 & 1 \\\\\n",
    "\\end{bmatrix}\n",
    "$\n",
    "\n",
    "Transformation 3: xyz-translation of $(5, -4, -2)$ $\n",
    "\\begin{bmatrix}\n",
    "1 & 0 & 0 & 5 \\\\\n",
    "0 & 1 & 0 & -4 \\\\\n",
    "0 & 0 & 1 & -2 \\\\\n",
    "0 & 0 & 0 & 1 \\\\\n",
    "\\end{bmatrix}\n",
    "$\n",
    "\n",
    "$$\n",
    "\\begin{bmatrix}\n",
    "1 & 0 & 0 & 5 \\\\\n",
    "0 & 1 & 0 & -4 \\\\\n",
    "0 & 0 & 1 & -2 \\\\\n",
    "0 & 0 & 0 & 1 \\\\\n",
    "\\end{bmatrix}\n",
    "\\begin{bmatrix}\n",
    "cos(-45º) & 0 & sin(-45º) & 0 \\\\\n",
    "0 & 1 & 0 & 0 \\\\\n",
    "-sin(-45º) & 0 & cos(-45º) & 0 \\\\\n",
    "0 & 0 & 0 & 1 \\\\\n",
    "\\end{bmatrix}\n",
    "\\begin{bmatrix}\n",
    "2 & 0 & 0 & 0 \\\\\n",
    "0 & 1 & 0 & 0 \\\\\n",
    "0 & 0 & 3 & 0 \\\\\n",
    "0 & 0 & 0 & 1 \\\\\n",
    "\\end{bmatrix}\n",
    "$$"
   ]
  },
  {
   "cell_type": "markdown",
   "metadata": {},
   "source": [
    "---"
   ]
  },
  {
   "cell_type": "markdown",
   "metadata": {},
   "source": [
    "__Problem 3__"
   ]
  },
  {
   "cell_type": "markdown",
   "metadata": {},
   "source": [
    "Transformation 1: $30º$ rotation about the x-axis $\n",
    "\\begin{bmatrix}\n",
    "1 & 0 & 0 & 0 \\\\\n",
    "0 & cos(-60º) & -sin(-60º) & 0 \\\\\n",
    "0 & sin(-60º) & cos(-60º) & 0 \\\\\n",
    "0 & 0 & 0 & 1 \\\\\n",
    "\\end{bmatrix}\n",
    "$\n",
    "\n",
    "Transformation 2: xyz-scale by $(1.5, 3, 2)$ $\n",
    "\\begin{bmatrix}\n",
    "1.5 & 0 & 0 & 0 \\\\\n",
    "0 & 3 & 0 & 0 \\\\\n",
    "0 & 0 & 2 & 0 \\\\\n",
    "0 & 0 & 0 & 1 \\\\\n",
    "\\end{bmatrix}\n",
    "$\n",
    "\n",
    "Transformation 3: xyz-translation of $(-7, 0, 2)$ $\n",
    "\\begin{bmatrix}\n",
    "1 & 0 & 0 & -7 \\\\\n",
    "0 & 1 & 0 & 0 \\\\\n",
    "0 & 0 & 1 & 2 \\\\\n",
    "0 & 0 & 0 & 1 \\\\\n",
    "\\end{bmatrix}\n",
    "$\n",
    "\n",
    "$$\n",
    "\\begin{bmatrix}\n",
    "1 & 0 & 0 & -7 \\\\\n",
    "0 & 1 & 0 & 0 \\\\\n",
    "0 & 0 & 1 & 2 \\\\\n",
    "0 & 0 & 0 & 1 \\\\\n",
    "\\end{bmatrix}\n",
    "\\begin{bmatrix}\n",
    "1.5 & 0 & 0 & 0 \\\\\n",
    "0 & 3 & 0 & 0 \\\\\n",
    "0 & 0 & 2 & 0 \\\\\n",
    "0 & 0 & 0 & 1 \\\\\n",
    "\\end{bmatrix}\n",
    "\\begin{bmatrix}\n",
    "1 & 0 & 0 & 0 \\\\\n",
    "0 & cos(-60º) & -sin(-60º) & 0 \\\\\n",
    "0 & sin(-60º) & cos(-60º) & 0 \\\\\n",
    "0 & 0 & 0 & 1 \\\\\n",
    "\\end{bmatrix}\n",
    "$$"
   ]
  },
  {
   "cell_type": "markdown",
   "metadata": {},
   "source": [
    "---"
   ]
  },
  {
   "cell_type": "markdown",
   "metadata": {},
   "source": [
    "__Problem 4__"
   ]
  },
  {
   "cell_type": "markdown",
   "metadata": {},
   "source": [
    "Transformation 1: $30º$ rotation about the z-axis $\n",
    "\\begin{bmatrix}\n",
    "cos(30º) & -sin(30º) & 0 & 0 \\\\\n",
    "sin(30º) & cos(30º) & 0 & 0 \\\\\n",
    "0 & 0 & 1 & 0 \\\\\n",
    "0 & 0 & 0 & 1 \\\\\n",
    "\\end{bmatrix}\n",
    "$\n",
    "\n",
    "Transformation 2: xyz-scale by $(0.5, 1.5, 2)$ $\n",
    "\\begin{bmatrix}\n",
    "0.5 & 0 & 0 & 0 \\\\\n",
    "0 & 1.5 & 0 & 0 \\\\\n",
    "0 & 0 & 2 & 0 \\\\\n",
    "0 & 0 & 0 & 1 \\\\\n",
    "\\end{bmatrix}\n",
    "$\n",
    "\n",
    "Transformation 3: xyz-translation of $(4, 5, -1)$ $\n",
    "\\begin{bmatrix}\n",
    "1 & 0 & 0 & 4 \\\\\n",
    "0 & 1 & 0 & 5 \\\\\n",
    "0 & 0 & 1 & -1 \\\\\n",
    "0 & 0 & 0 & 1 \\\\\n",
    "\\end{bmatrix}\n",
    "$\n",
    "\n",
    "$$\n",
    "\\begin{bmatrix}\n",
    "1 & 0 & 0 & 4 \\\\\n",
    "0 & 1 & 0 & 5 \\\\\n",
    "0 & 0 & 1 & -1 \\\\\n",
    "0 & 0 & 0 & 1 \\\\\n",
    "\\end{bmatrix}\n",
    "\\begin{bmatrix}\n",
    "0.5 & 0 & 0 & 0 \\\\\n",
    "0 & 1.5 & 0 & 0 \\\\\n",
    "0 & 0 & 2 & 0 \\\\\n",
    "0 & 0 & 0 & 1 \\\\\n",
    "\\end{bmatrix}\n",
    "\\begin{bmatrix}\n",
    "cos(30º) & -sin(30º) & 0 & 0 \\\\\n",
    "sin(30º) & cos(30º) & 0 & 0 \\\\\n",
    "0 & 0 & 1 & 0 \\\\\n",
    "0 & 0 & 0 & 1 \\\\\n",
    "\\end{bmatrix}\n",
    "$$"
   ]
  },
  {
   "cell_type": "markdown",
   "metadata": {},
   "source": [
    "---"
   ]
  }
 ],
 "metadata": {
  "kernelspec": {
   "display_name": "Python 3",
   "language": "python",
   "name": "python3"
  },
  "language_info": {
   "codemirror_mode": {
    "name": "ipython",
    "version": 3
   },
   "file_extension": ".py",
   "mimetype": "text/x-python",
   "name": "python",
   "nbconvert_exporter": "python",
   "pygments_lexer": "ipython3",
   "version": "3.8.6"
  }
 },
 "nbformat": 4,
 "nbformat_minor": 4
}
